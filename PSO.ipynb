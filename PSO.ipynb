{
 "cells": [
  {
   "cell_type": "code",
   "execution_count": 1,
   "metadata": {},
   "outputs": [],
   "source": [
    "import math"
   ]
  },
  {
   "cell_type": "code",
   "execution_count": 2,
   "metadata": {},
   "outputs": [],
   "source": [
    "import matplotlib.pyplot as plt"
   ]
  },
  {
   "cell_type": "code",
   "execution_count": 3,
   "metadata": {},
   "outputs": [],
   "source": [
    "import numpy as np"
   ]
  },
  {
   "cell_type": "markdown",
   "metadata": {},
   "source": [
    "### Сгенерируем датасет с помощью данного фреймоворка"
   ]
  },
  {
   "cell_type": "code",
   "execution_count": 40,
   "metadata": {},
   "outputs": [],
   "source": [
    "from Data_generator.func_generator import generate_dataset, generate_complex_function"
   ]
  },
  {
   "cell_type": "code",
   "execution_count": 41,
   "metadata": {},
   "outputs": [],
   "source": [
    "from Data_generator import functions as f"
   ]
  },
  {
   "cell_type": "code",
   "execution_count": 42,
   "metadata": {},
   "outputs": [
    {
     "name": "stdout",
     "output_type": "stream",
     "text": [
      "[-0.55325915]\n"
     ]
    }
   ],
   "source": [
    "fun, s = generate_complex_function(np.array([f.sin, f.ln]), 2, chances_count= 1)\n",
    "vf = np.vectorize(fun)"
   ]
  },
  {
   "cell_type": "code",
   "execution_count": 43,
   "metadata": {},
   "outputs": [],
   "source": [
    "dataset = generate_dataset(fun, 1000)\n",
    "X, y = dataset[0], dataset[1]\n",
    "y = y.squeeze()"
   ]
  },
  {
   "cell_type": "markdown",
   "metadata": {},
   "source": [
    "### Посмотрим на то, как выглядит наша сложная функция"
   ]
  },
  {
   "cell_type": "code",
   "execution_count": 44,
   "metadata": {},
   "outputs": [
    {
     "data": {
      "text/plain": [
       "<matplotlib.collections.PathCollection at 0x1d1f1cf80c8>"
      ]
     },
     "execution_count": 44,
     "metadata": {},
     "output_type": "execute_result"
    },
    {
     "data": {
      "image/png": "[encoded data removed]",
      "text/plain": [
       "<Figure size 432x288 with 1 Axes>"
      ]
     },
     "metadata": {
      "needs_background": "light"
     },
     "output_type": "display_data"
    }
   ],
   "source": [
    "plt.scatter(X, y, marker='o')"
   ]
  },
  {
   "cell_type": "code",
   "execution_count": 45,
   "metadata": {},
   "outputs": [
    {
     "data": {
      "text/plain": [
       "' +0.2973832593 × ln(+2.730256x -1.563432) -1.0637559411 × sin(+2.478828x +2.263235) -0.553259'"
      ]
     },
     "execution_count": 45,
     "metadata": {},
     "output_type": "execute_result"
    }
   ],
   "source": [
    "s"
   ]
  },
  {
   "cell_type": "markdown",
   "metadata": {},
   "source": [
    "### Построим датасет из полиномов от X_train"
   ]
  },
  {
   "cell_type": "code",
   "execution_count": 46,
   "metadata": {},
   "outputs": [],
   "source": [
    "from sklearn.model_selection import train_test_split"
   ]
  },
  {
   "cell_type": "code",
   "execution_count": 47,
   "metadata": {},
   "outputs": [],
   "source": [
    "X_train, X_test, y_train, y_test = train_test_split(X, y, test_size=0.2, random_state=42)"
   ]
  },
  {
   "cell_type": "code",
   "execution_count": 48,
   "metadata": {},
   "outputs": [],
   "source": [
    "#X_train, X_test = np.array([[x**1, x**2, x**3, x**4, x**5, math.sin(x)] for x in X_train]), np.array([[x**1, x**2, x**3, x**4, x**5, math.sin(x)] for x in X_test])"
   ]
  },
  {
   "cell_type": "markdown",
   "metadata": {},
   "source": [
    "### Реализуем наши функции ошибки (не забываем отнормировать на количество сэмплов в датасете)"
   ]
  },
  {
   "cell_type": "code",
   "execution_count": 49,
   "metadata": {},
   "outputs": [],
   "source": [
    "from Data_generator.functions import sin"
   ]
  },
  {
   "cell_type": "code",
   "execution_count": 50,
   "metadata": {},
   "outputs": [],
   "source": [
    "from Data_generator.functions import exp, hyper, linear, ln, sin, sqr,sqrt"
   ]
  },
  {
   "cell_type": "code",
   "execution_count": 51,
   "metadata": {},
   "outputs": [],
   "source": [
    "?sqr"
   ]
  },
  {
   "cell_type": "code",
   "execution_count": 52,
   "metadata": {},
   "outputs": [],
   "source": [
    "from functools import partial"
   ]
  },
  {
   "cell_type": "markdown",
   "metadata": {},
   "source": [
    "Веса:<br>\n",
    "[0] - x**1 <br>\n",
    "[1] - x**2 <br>\n",
    "[2] - x**3 <br><br>\n",
    "\n",
    "[3] - sin dx <br>\n",
    "[4] - sin ax <br>\n",
    "[5] - sin a <br><br>\n",
    "\n",
    "[6] - exp dx <br>\n",
    "[7] - exp ax <br>\n",
    "[8] - exp a <br><br>\n",
    "\n",
    "[9] - hyper dx <br>\n",
    "[10] - hyper ax <br>\n",
    "[11] - hype a <br><br>\n",
    "\n",
    "[12] - linear dx <br>\n",
    "[13] - linear ax <br>\n",
    "[14] - linear a <br><br>\n",
    "\n",
    "[15] - ln dx <br>\n",
    "[16] - ln ax <br>\n",
    "[17] - ln a <br><br>\n",
    "\n",
    "[18] - sqr dx <br>\n",
    "[19] - sqr ax <br>\n",
    "[20] - sqr a <br><br>\n",
    "\n",
    "[21] - a <br>\n",
    "\n",
    "[22] - sqrt dx <br>\n",
    "[23] - sqrt ax <br>\n",
    "[24] - sqrt a <br>\n"
   ]
  },
  {
   "cell_type": "code",
   "execution_count": 53,
   "metadata": {},
   "outputs": [],
   "source": [
    "def get_sin_func(weights):\n",
    "    return np.vectorize(partial(sin, dx = weights[3], ax =weights[4], a=weights[5]))"
   ]
  },
  {
   "cell_type": "code",
   "execution_count": 54,
   "metadata": {},
   "outputs": [],
   "source": [
    "def get_poly_func(weights):\n",
    "    return np.vectorize((lambda x : weights[0] * x**1 + weights[1] * x**2 + weights[2] * x**3))"
   ]
  },
  {
   "cell_type": "code",
   "execution_count": 55,
   "metadata": {},
   "outputs": [],
   "source": [
    "def get_exp_func(weights):\n",
    "    return np.vectorize(partial(exp, dx = weights[6], ax =weights[7], a=weights[8]))"
   ]
  },
  {
   "cell_type": "code",
   "execution_count": 56,
   "metadata": {},
   "outputs": [],
   "source": [
    "def get_hyper_func(weights):\n",
    "    return np.vectorize(partial(hyper, dx = weights[9], ax =weights[10], a=weights[11]))"
   ]
  },
  {
   "cell_type": "code",
   "execution_count": 57,
   "metadata": {},
   "outputs": [],
   "source": [
    "def get_linear_func(weights):\n",
    "    return np.vectorize(partial(linear, dx = weights[12], ax =weights[13], a=weights[14]))"
   ]
  },
  {
   "cell_type": "code",
   "execution_count": 58,
   "metadata": {},
   "outputs": [],
   "source": [
    "def get_ln_func(weights):\n",
    "    return np.vectorize(partial(ln, dx = weights[15], ax =weights[16], a=weights[17]))"
   ]
  },
  {
   "cell_type": "code",
   "execution_count": 59,
   "metadata": {},
   "outputs": [],
   "source": [
    "def get_sqr_func(weights):\n",
    "    return np.vectorize(partial(sqr, dx = weights[18], ax =weights[19], a=weights[20]))"
   ]
  },
  {
   "cell_type": "code",
   "execution_count": 60,
   "metadata": {},
   "outputs": [],
   "source": [
    "def get_sqrt_func(weights):\n",
    "    return np.vectorize(partial(sqrt, dx = weights[22], ax =weights[23], a=weights[24]))"
   ]
  },
  {
   "cell_type": "code",
   "execution_count": 61,
   "metadata": {},
   "outputs": [],
   "source": [
    "def get_super_predict(weights, x):\n",
    "    return weights[-1] + get_sin_func(weights)(x) + get_ln_func(weights)(x) + get_linear_func(weights)(x) + get_exp_func(weights)(x) +  get_sqr_func(weights)(x) + get_hyper_func(weights)(x)+get_exp_func(weights)(x) +  get_sqrt_func(weights)(x)"
   ]
  },
  {
   "cell_type": "code",
   "execution_count": 62,
   "metadata": {},
   "outputs": [],
   "source": [
    "def mse_sin_ln(weights, x = X_train, y= y_train):\n",
    "    \n",
    "    predict = get_super_predict(weights,x)\n",
    "    \n",
    "    return sum((y - predict)**2 / x.shape[0])"
   ]
  },
  {
   "cell_type": "code",
   "execution_count": 63,
   "metadata": {},
   "outputs": [],
   "source": [
    "def l1(weights, x = X_train, y = y_train):\n",
    "    predict = get_super_predict(weights,x)\n",
    "    return sum(np.abs(y - predict)/ x.shape[0])"
   ]
  },
  {
   "cell_type": "markdown",
   "metadata": {},
   "source": [
    "### Подключим библиотеки для построения графиков и посмотрим на распределение y"
   ]
  },
  {
   "cell_type": "code",
   "execution_count": 64,
   "metadata": {},
   "outputs": [
    {
     "data": {
      "text/plain": [
       "6.2086777474372425"
      ]
     },
     "execution_count": 64,
     "metadata": {},
     "output_type": "execute_result"
    }
   ],
   "source": [
    "X_train[0]"
   ]
  },
  {
   "cell_type": "code",
   "execution_count": 67,
   "metadata": {},
   "outputs": [
    {
     "name": "stdout",
     "output_type": "stream",
     "text": [
      "0  err_best_g :  -1\n",
      "1  err_best_g :  122.91654864663043\n",
      "2  err_best_g :  18.58189434147009\n",
      "3  err_best_g :  18.58189434147009\n",
      "4  err_best_g :  18.58189434147009\n",
      "5  err_best_g :  18.58189434147009\n",
      "6  err_best_g :  18.243633718102263\n",
      "7  err_best_g :  18.243633718102263\n",
      "8  err_best_g :  18.243633718102263\n",
      "9  err_best_g :  18.243633718102263\n",
      "10  err_best_g :  18.243633718102263\n",
      "11  err_best_g :  18.243633718102263\n",
      "12  err_best_g :  18.243633718102263\n",
      "13  err_best_g :  17.33509425483585\n",
      "14  err_best_g :  8.706374051612293\n",
      "15  err_best_g :  8.706374051612293\n",
      "16  err_best_g :  8.706374051612293\n",
      "17  err_best_g :  8.706374051612293\n",
      "18  err_best_g :  8.706374051612293\n",
      "19  err_best_g :  8.706374051612293\n",
      "20  err_best_g :  8.706374051612293\n",
      "21  err_best_g :  8.706374051612293\n",
      "22  err_best_g :  8.706374051612293\n",
      "23  err_best_g :  8.392683710276113\n",
      "24  err_best_g :  8.392683710276113\n",
      "25  err_best_g :  8.392683710276113\n",
      "26  err_best_g :  8.392683710276113\n",
      "27  err_best_g :  8.392683710276113\n",
      "28  err_best_g :  8.392683710276113\n",
      "29  err_best_g :  8.392683710276113\n",
      "30  err_best_g :  8.392683710276113\n",
      "31  err_best_g :  8.392683710276113\n",
      "32  err_best_g :  8.392683710276113\n",
      "33  err_best_g :  8.392683710276113\n",
      "34  err_best_g :  8.392683710276113\n",
      "35  err_best_g :  8.392683710276113\n",
      "36  err_best_g :  8.392683710276113\n",
      "37  err_best_g :  8.392683710276113\n",
      "38  err_best_g :  8.205546250804014\n",
      "39  err_best_g :  7.484118188522291\n",
      "40  err_best_g :  6.799863584083799\n",
      "41  err_best_g :  5.579259341524364\n",
      "42  err_best_g :  2.4979450524312865\n",
      "43  err_best_g :  1.1168244272031447\n",
      "44  err_best_g :  1.1047626879551533\n",
      "45  err_best_g :  1.1047626879551533\n",
      "46  err_best_g :  1.1047626879551533\n",
      "47  err_best_g :  1.1047626879551533\n",
      "48  err_best_g :  0.9875043604874187\n",
      "49  err_best_g :  0.9875043604874187\n",
      "50  err_best_g :  0.6392617986187897\n",
      "51  err_best_g :  0.606399035545486\n",
      "52  err_best_g :  0.606399035545486\n",
      "53  err_best_g :  0.5689261080615317\n",
      "54  err_best_g :  0.5689261080615317\n",
      "55  err_best_g :  0.5689261080615317\n",
      "56  err_best_g :  0.5689261080615317\n",
      "57  err_best_g :  0.5689261080615317\n",
      "58  err_best_g :  0.5689261080615317\n",
      "59  err_best_g :  0.25636254501309336\n",
      "60  err_best_g :  0.25636254501309336\n",
      "61  err_best_g :  0.25636254501309336\n",
      "62  err_best_g :  0.25636254501309336\n",
      "63  err_best_g :  0.25636254501309336\n",
      "64  err_best_g :  0.25636254501309336\n",
      "65  err_best_g :  0.25636254501309336\n",
      "66  err_best_g :  0.25170948391634046\n",
      "67  err_best_g :  0.25170948391634046\n",
      "68  err_best_g :  0.25170948391634046\n",
      "69  err_best_g :  0.23598335077011878\n",
      "70  err_best_g :  0.23598335077011878\n",
      "71  err_best_g :  0.20402889491681897\n",
      "72  err_best_g :  0.20402889491681897\n",
      "73  err_best_g :  0.20402889491681897\n",
      "74  err_best_g :  0.20402889491681897\n",
      "75  err_best_g :  0.20402889491681897\n",
      "76  err_best_g :  0.20402889491681897\n",
      "77  err_best_g :  0.19035268509618497\n",
      "78  err_best_g :  0.17810503832988436\n",
      "79  err_best_g :  0.17810503832988436\n",
      "80  err_best_g :  0.17810503832988436\n",
      "81  err_best_g :  0.1608094828186803\n",
      "82  err_best_g :  0.1608094828186803\n",
      "83  err_best_g :  0.1608094828186803\n",
      "84  err_best_g :  0.1608094828186803\n",
      "85  err_best_g :  0.1608094828186803\n",
      "86  err_best_g :  0.1608094828186803\n",
      "87  err_best_g :  0.1608094828186803\n",
      "88  err_best_g :  0.14978728727771015\n",
      "89  err_best_g :  0.14420730158343062\n",
      "90  err_best_g :  0.14420730158343062\n",
      "91  err_best_g :  0.14420730158343062\n",
      "92  err_best_g :  0.14420730158343062\n",
      "93  err_best_g :  0.14420730158343062\n",
      "94  err_best_g :  0.14420730158343062\n",
      "95  err_best_g :  0.14379740476640612\n",
      "96  err_best_g :  0.14379740476640612\n",
      "97  err_best_g :  0.14295962082580937\n",
      "98  err_best_g :  0.14295962082580937\n",
      "99  err_best_g :  0.13958628770308346\n",
      "FINAL:\n",
      "poly [3.4402271264612994, -1.2319029020216552, -1.8596128024293206]\n",
      "sin [-0.39072940142795104, -0.6084486088770691, 0.07708759064434575]\n",
      "exp [-0.798625543020172, 0.16096561096192666, 7.047548547630764]\n",
      "hyp [-0.18922474830962935, 0.24715200680391694, -0.3192989162824255]\n",
      "linear [-3.9994363135991784, -0.10663014149696798, 2.4470276714867536]\n",
      "ln [-0.01896835049640465, -0.3835663294832738, -0.35657018000911217]\n",
      "sqr [2.3406730796911015, 0.821418913219212, -0.19890611207405207]\n",
      "sqr [1.4443489526051727, -0.2789663477886279, 1.443495072331022, 1.8957220053990205]\n"
     ]
    }
   ],
   "source": [
    "from __future__ import division\n",
    "import random\n",
    "import math\n",
    "\n",
    "#--- COST FUNCTION \n",
    "# function we are attempting to optimize (minimize)\n",
    "#--- MAIN \n",
    "class Particle:\n",
    "    def __init__(self,x0):\n",
    "        self.position_i=[]          # particle position\n",
    "        self.velocity_i=[]          # particle velocity\n",
    "        self.pos_best_i=[]          # best position individual\n",
    "        self.err_best_i=-1          # best error individual\n",
    "        self.err_i=-1               # error individual\n",
    "\n",
    "        for i in range(0,num_dimensions):\n",
    "            self.velocity_i.append(random.uniform(-1, 1))\n",
    "            self.position_i.append(random.uniform(-3, 3))\n",
    "\n",
    "    # evaluate current fitness\n",
    "    def evaluate(self,costFunc):\n",
    "        self.err_i=costFunc(self.position_i)\n",
    "\n",
    "        # check to see if the current position is an individual best\n",
    "        #print(self.err_i)\n",
    "        #print(self.err_best_i)\n",
    "        \n",
    "        if self.err_best_i==-1 or self.err_i < self.err_best_i:\n",
    "            self.pos_best_i=self.position_i\n",
    "            self.err_best_i=self.err_i\n",
    "\n",
    "    # update new particle velocity\n",
    "    def update_velocity(self,pos_best_g):\n",
    "        w=0.8       # constant inertia weight (how much to weigh the previous velocity)\n",
    "        c1=1        # cognative constant\n",
    "        c2=1        # social constant\n",
    "\n",
    "        for i in range(0,num_dimensions):\n",
    "            r1=random.random()\n",
    "            r2=random.random()\n",
    "\n",
    "            vel_cognitive=c1*r1*(self.pos_best_i[i]-self.position_i[i])\n",
    "            vel_social=c2*r2*(pos_best_g[i]-self.position_i[i])\n",
    "            self.velocity_i[i]=w*self.velocity_i[i]+vel_cognitive+vel_social\n",
    "\n",
    "    # update the particle position based off new velocity updates\n",
    "    def update_position(self,bounds):\n",
    "        for i in range(0,num_dimensions):\n",
    "            self.position_i[i]=self.position_i[i]+self.velocity_i[i]\n",
    "\n",
    "            # adjust maximum position if necessary\n",
    "            if self.position_i[i]>bounds[i][1]:\n",
    "                self.position_i[i]=bounds[i][1]\n",
    "\n",
    "            # adjust minimum position if neseccary\n",
    "            if self.position_i[i] < bounds[i][0]:\n",
    "                self.position_i[i]=bounds[i][0]\n",
    "                \n",
    "class PSO():\n",
    "    def __init__(self,costFunc,x0,bounds,num_particles,maxiter, verbose=False):\n",
    "        global num_dimensions\n",
    "        \n",
    "        self.err_best_g_hist = []\n",
    "        self.pos_best_g_hist = []\n",
    "        \n",
    "        pos = []\n",
    "\n",
    "        \n",
    "        num_dimensions=len(x0)\n",
    "        err_best_g=-1                   # best error for group\n",
    "        pos_best_g=[]                   # best position for group\n",
    "\n",
    "        # establish the swarm\n",
    "        swarm=[]\n",
    "        for i in range(0,num_particles):\n",
    "            swarm.append(Particle(x0))\n",
    "\n",
    "        # begin optimization loop\n",
    "        i=0\n",
    "        while i < maxiter:\n",
    "            if verbose:\n",
    "                print (i, \" err_best_g : \", err_best_g)\n",
    "            # cycle through particles in swarm and evaluate fitness\n",
    "            for j in range(0,num_particles):\n",
    "                swarm[j].evaluate(costFunc)\n",
    "\n",
    "                # determine if current particle is the best (globally)\n",
    "                if swarm[j].err_i < err_best_g or err_best_g == -1:\n",
    "                    pos_best_g=list(swarm[j].position_i)\n",
    "                    err_best_g=float(swarm[j].err_i)\n",
    "                    self.err_best_g_hist.append(err_best_g)\n",
    "                    self.pos_best_g_hist.append(pos_best_g)\n",
    "            # cycle through swarm and update velocities and position\n",
    "            for j in range(0,num_particles):\n",
    "                swarm[j].update_velocity(pos_best_g)\n",
    "                swarm[j].update_position(bounds)\n",
    "            i+=1\n",
    "\n",
    "        # print final results\n",
    "        print('FINAL:')\n",
    "        print(\"poly\", pos_best_g[:3])\n",
    "        print(\"sin\", pos_best_g[3:6])\n",
    "        print(\"exp\", pos_best_g[6:9])\n",
    "        print(\"hyp\", pos_best_g[9:12])\n",
    "        print(\"linear\",pos_best_g[12:15])\n",
    "        print(\"ln\",pos_best_g[15:18])\n",
    "        print(\"sqr\",pos_best_g[18:21])\n",
    "        print(\"sqr\",pos_best_g[21:24])\n",
    "        \n",
    "        self.pos_best_g = pos_best_g\n",
    "        #return np.array(pos_best_g)\n",
    "\n",
    "if __name__ == \"__PSO__\":\n",
    "    main()\n",
    "\n",
    "#--- EXECUTE\n",
    "\n",
    "initial = np.zeros(25)#X_train.shape[1])               # initial starting location [x1,x2...]\n",
    "bounds=[(-25, 25)] * len(initial)  # input bounds [(x1_min,x1_max),(x2_min,x2_max)...]\n",
    "pso = PSO(mse_sin_ln,initial,bounds,num_particles=400,maxiter=100, verbose=True)"
   ]
  },
  {
   "cell_type": "code",
   "execution_count": 68,
   "metadata": {},
   "outputs": [
    {
     "data": {
      "text/plain": [
       "<matplotlib.collections.PathCollection at 0x1d1f1d71b88>"
      ]
     },
     "execution_count": 68,
     "metadata": {},
     "output_type": "execute_result"
    },
    {
     "data": {
      "image/png": "[encoded data removed]",
      "text/plain": [
       "<Figure size 432x288 with 1 Axes>"
      ]
     },
     "metadata": {
      "needs_background": "light"
     },
     "output_type": "display_data"
    }
   ],
   "source": [
    "plt.scatter(X_test, get_super_predict(pso.pos_best_g, X_test), marker='o')"
   ]
  },
  {
   "cell_type": "markdown",
   "metadata": {},
   "source": [
    "### Подключим библиотеку для построения графиков pygal"
   ]
  },
  {
   "cell_type": "code",
   "execution_count": 69,
   "metadata": {},
   "outputs": [],
   "source": [
    "import pygal\n",
    "from IPython.display import SVG, display"
   ]
  },
  {
   "cell_type": "code",
   "execution_count": 70,
   "metadata": {},
   "outputs": [],
   "source": [
    "def print_pso_log_error_hist(train_error_hist, test_error_hist, title):\n",
    "    line_chart = pygal.Line()\n",
    "    line_chart.title = title\n",
    "    #line_chart.x_labels = \"iterations\"#range(1, len(test_err_hist) + 1)\n",
    "    line_chart.add('{}'.format(\"Log of Train error via iteration\"), np.log(train_error_hist))\n",
    "    line_chart.add('{}'.format(\"Log of Test error via iteration\"), np.log(test_error_hist))\n",
    "    display(SVG(line_chart.render(disable_xml_declaration=True)))"
   ]
  },
  {
   "cell_type": "markdown",
   "metadata": {},
   "source": [
    "### Посмотрим на падение ошибки на тестовой и тренировочной выборках"
   ]
  },
  {
   "cell_type": "markdown",
   "metadata": {},
   "source": [
    "### Падение ошибки для mse"
   ]
  },
  {
   "cell_type": "code",
   "execution_count": 71,
   "metadata": {},
   "outputs": [
    {
     "data": {
      "image/svg+xml": [
       "<svg class=\"pygal-chart\" id=\"chart-dc695df5-00c1-42a9-81b2-ae6e85253a47\" viewBox=\"0 0 800 600\" xmlns=\"http://www.w3.org/2000/svg\" xmlns:xlink=\"http://www.w3.org/1999/xlink\"><!--Generated with pygal 2.4.0 (lxml) ©Kozea 2012-2016 on 2020-05-24--><!--http://pygal.org--><!--http://github.com/Kozea/pygal--><defs><style type=\"text/css\">#chart-dc695df5-00c1-42a9-81b2-ae6e85253a47{-webkit-user-select:none;-webkit-font-smoothing:antialiased;font-family:Consolas,&quot;Liberation Mono&quot;,Menlo,Courier,monospace}#chart-dc695df5-00c1-42a9-81b2-ae6e85253a47 .title{font-family:Consolas,&quot;Liberation Mono&quot;,Menlo,Courier,monospace;font-size:16px}#chart-dc695df5-00c1-42a9-81b2-ae6e85253a47 .legends .legend text{font-family:Consolas,&quot;Liberation Mono&quot;,Menlo,Courier,monospace;font-size:14px}#chart-dc695df5-00c1-42a9-81b2-ae6e85253a47 .axis text{font-family:Consolas,&quot;Liberation Mono&quot;,Menlo,Courier,monospace;font-size:10px}#chart-dc695df5-00c1-42a9-81b2-ae6e85253a47 .axis text.major{font-family:Consolas,&quot;Liberation Mono&quot;,Menlo,Courier,monospace;font-size:10px}#chart-dc695df5-00c1-42a9-81b2-ae6e85253a47 .text-overlay text.value{font-family:Consolas,&quot;Liberation Mono&quot;,Menlo,Courier,monospace;font-size:16px}#chart-dc695df5-00c1-42a9-81b2-ae6e85253a47 .text-overlay text.label{font-family:Consolas,&quot;Liberation Mono&quot;,Menlo,Courier,monospace;font-size:10px}#chart-dc695df5-00c1-42a9-81b2-ae6e85253a47 .tooltip{font-family:Consolas,&quot;Liberation Mono&quot;,Menlo,Courier,monospace;font-size:14px}#chart-dc695df5-00c1-42a9-81b2-ae6e85253a47 text.no_data{font-family:Consolas,&quot;Liberation Mono&quot;,Menlo,Courier,monospace;font-size:64px}\n",
       "#chart-dc695df5-00c1-42a9-81b2-ae6e85253a47{background-color:rgba(249,249,249,1)}#chart-dc695df5-00c1-42a9-81b2-ae6e85253a47 path,#chart-dc695df5-00c1-42a9-81b2-ae6e85253a47 line,#chart-dc695df5-00c1-42a9-81b2-ae6e85253a47 rect,#chart-dc695df5-00c1-42a9-81b2-ae6e85253a47 circle{-webkit-transition:150ms;-moz-transition:150ms;transition:150ms}#chart-dc695df5-00c1-42a9-81b2-ae6e85253a47 .graph &gt; .background{fill:rgba(249,249,249,1)}#chart-dc695df5-00c1-42a9-81b2-ae6e85253a47 .plot &gt; .background{fill:rgba(255,255,255,1)}#chart-dc695df5-00c1-42a9-81b2-ae6e85253a47 .graph{fill:rgba(0,0,0,.87)}#chart-dc695df5-00c1-42a9-81b2-ae6e85253a47 text.no_data{fill:rgba(0,0,0,1)}#chart-dc695df5-00c1-42a9-81b2-ae6e85253a47 .title{fill:rgba(0,0,0,1)}#chart-dc695df5-00c1-42a9-81b2-ae6e85253a47 .legends .legend text{fill:rgba(0,0,0,.87)}#chart-dc695df5-00c1-42a9-81b2-ae6e85253a47 .legends .legend:hover text{fill:rgba(0,0,0,1)}#chart-dc695df5-00c1-42a9-81b2-ae6e85253a47 .axis .line{stroke:rgba(0,0,0,1)}#chart-dc695df5-00c1-42a9-81b2-ae6e85253a47 .axis .guide.line{stroke:rgba(0,0,0,.54)}#chart-dc695df5-00c1-42a9-81b2-ae6e85253a47 .axis .major.line{stroke:rgba(0,0,0,.87)}#chart-dc695df5-00c1-42a9-81b2-ae6e85253a47 .axis text.major{fill:rgba(0,0,0,1)}#chart-dc695df5-00c1-42a9-81b2-ae6e85253a47 .axis.y .guides:hover .guide.line,#chart-dc695df5-00c1-42a9-81b2-ae6e85253a47 .line-graph .axis.x .guides:hover .guide.line,#chart-dc695df5-00c1-42a9-81b2-ae6e85253a47 .stackedline-graph .axis.x .guides:hover .guide.line,#chart-dc695df5-00c1-42a9-81b2-ae6e85253a47 .xy-graph .axis.x .guides:hover .guide.line{stroke:rgba(0,0,0,1)}#chart-dc695df5-00c1-42a9-81b2-ae6e85253a47 .axis .guides:hover text{fill:rgba(0,0,0,1)}#chart-dc695df5-00c1-42a9-81b2-ae6e85253a47 .reactive{fill-opacity:.7;stroke-opacity:.8}#chart-dc695df5-00c1-42a9-81b2-ae6e85253a47 .ci{stroke:rgba(0,0,0,.87)}#chart-dc695df5-00c1-42a9-81b2-ae6e85253a47 .reactive.active,#chart-dc695df5-00c1-42a9-81b2-ae6e85253a47 .active .reactive{fill-opacity:.8;stroke-opacity:.9;stroke-width:4}#chart-dc695df5-00c1-42a9-81b2-ae6e85253a47 .ci .reactive.active{stroke-width:1.5}#chart-dc695df5-00c1-42a9-81b2-ae6e85253a47 .series text{fill:rgba(0,0,0,1)}#chart-dc695df5-00c1-42a9-81b2-ae6e85253a47 .tooltip rect{fill:rgba(255,255,255,1);stroke:rgba(0,0,0,1);-webkit-transition:opacity 150ms;-moz-transition:opacity 150ms;transition:opacity 150ms}#chart-dc695df5-00c1-42a9-81b2-ae6e85253a47 .tooltip .label{fill:rgba(0,0,0,.87)}#chart-dc695df5-00c1-42a9-81b2-ae6e85253a47 .tooltip .label{fill:rgba(0,0,0,.87)}#chart-dc695df5-00c1-42a9-81b2-ae6e85253a47 .tooltip .legend{font-size:.8em;fill:rgba(0,0,0,.54)}#chart-dc695df5-00c1-42a9-81b2-ae6e85253a47 .tooltip .x_label{font-size:.6em;fill:rgba(0,0,0,1)}#chart-dc695df5-00c1-42a9-81b2-ae6e85253a47 .tooltip .xlink{font-size:.5em;text-decoration:underline}#chart-dc695df5-00c1-42a9-81b2-ae6e85253a47 .tooltip .value{font-size:1.5em}#chart-dc695df5-00c1-42a9-81b2-ae6e85253a47 .bound{font-size:.5em}#chart-dc695df5-00c1-42a9-81b2-ae6e85253a47 .max-value{font-size:.75em;fill:rgba(0,0,0,.54)}#chart-dc695df5-00c1-42a9-81b2-ae6e85253a47 .map-element{fill:rgba(255,255,255,1);stroke:rgba(0,0,0,.54) !important}#chart-dc695df5-00c1-42a9-81b2-ae6e85253a47 .map-element .reactive{fill-opacity:inherit;stroke-opacity:inherit}#chart-dc695df5-00c1-42a9-81b2-ae6e85253a47 .color-0,#chart-dc695df5-00c1-42a9-81b2-ae6e85253a47 .color-0 a:visited{stroke:#F44336;fill:#F44336}#chart-dc695df5-00c1-42a9-81b2-ae6e85253a47 .color-1,#chart-dc695df5-00c1-42a9-81b2-ae6e85253a47 .color-1 a:visited{stroke:#3F51B5;fill:#3F51B5}#chart-dc695df5-00c1-42a9-81b2-ae6e85253a47 .text-overlay .color-0 text{fill:black}#chart-dc695df5-00c1-42a9-81b2-ae6e85253a47 .text-overlay .color-1 text{fill:black}\n",
       "#chart-dc695df5-00c1-42a9-81b2-ae6e85253a47 text.no_data{text-anchor:middle}#chart-dc695df5-00c1-42a9-81b2-ae6e85253a47 .guide.line{fill:none}#chart-dc695df5-00c1-42a9-81b2-ae6e85253a47 .centered{text-anchor:middle}#chart-dc695df5-00c1-42a9-81b2-ae6e85253a47 .title{text-anchor:middle}#chart-dc695df5-00c1-42a9-81b2-ae6e85253a47 .legends .legend text{fill-opacity:1}#chart-dc695df5-00c1-42a9-81b2-ae6e85253a47 .axis.x text{text-anchor:middle}#chart-dc695df5-00c1-42a9-81b2-ae6e85253a47 .axis.x:not(.web) text[transform]{text-anchor:start}#chart-dc695df5-00c1-42a9-81b2-ae6e85253a47 .axis.x:not(.web) text[transform].backwards{text-anchor:end}#chart-dc695df5-00c1-42a9-81b2-ae6e85253a47 .axis.y text{text-anchor:end}#chart-dc695df5-00c1-42a9-81b2-ae6e85253a47 .axis.y text[transform].backwards{text-anchor:start}#chart-dc695df5-00c1-42a9-81b2-ae6e85253a47 .axis.y2 text{text-anchor:start}#chart-dc695df5-00c1-42a9-81b2-ae6e85253a47 .axis.y2 text[transform].backwards{text-anchor:end}#chart-dc695df5-00c1-42a9-81b2-ae6e85253a47 .axis .guide.line{stroke-dasharray:4,4}#chart-dc695df5-00c1-42a9-81b2-ae6e85253a47 .axis .major.guide.line{stroke-dasharray:6,6}#chart-dc695df5-00c1-42a9-81b2-ae6e85253a47 .horizontal .axis.y .guide.line,#chart-dc695df5-00c1-42a9-81b2-ae6e85253a47 .horizontal .axis.y2 .guide.line,#chart-dc695df5-00c1-42a9-81b2-ae6e85253a47 .vertical .axis.x .guide.line{opacity:0}#chart-dc695df5-00c1-42a9-81b2-ae6e85253a47 .horizontal .axis.always_show .guide.line,#chart-dc695df5-00c1-42a9-81b2-ae6e85253a47 .vertical .axis.always_show .guide.line{opacity:1 !important}#chart-dc695df5-00c1-42a9-81b2-ae6e85253a47 .axis.y .guides:hover .guide.line,#chart-dc695df5-00c1-42a9-81b2-ae6e85253a47 .axis.y2 .guides:hover .guide.line,#chart-dc695df5-00c1-42a9-81b2-ae6e85253a47 .axis.x .guides:hover .guide.line{opacity:1}#chart-dc695df5-00c1-42a9-81b2-ae6e85253a47 .axis .guides:hover text{opacity:1}#chart-dc695df5-00c1-42a9-81b2-ae6e85253a47 .nofill{fill:none}#chart-dc695df5-00c1-42a9-81b2-ae6e85253a47 .subtle-fill{fill-opacity:.2}#chart-dc695df5-00c1-42a9-81b2-ae6e85253a47 .dot{stroke-width:1px;fill-opacity:1}#chart-dc695df5-00c1-42a9-81b2-ae6e85253a47 .dot.active{stroke-width:5px}#chart-dc695df5-00c1-42a9-81b2-ae6e85253a47 .dot.negative{fill:transparent}#chart-dc695df5-00c1-42a9-81b2-ae6e85253a47 text,#chart-dc695df5-00c1-42a9-81b2-ae6e85253a47 tspan{stroke:none !important}#chart-dc695df5-00c1-42a9-81b2-ae6e85253a47 .series text.active{opacity:1}#chart-dc695df5-00c1-42a9-81b2-ae6e85253a47 .tooltip rect{fill-opacity:.95;stroke-width:.5}#chart-dc695df5-00c1-42a9-81b2-ae6e85253a47 .tooltip text{fill-opacity:1}#chart-dc695df5-00c1-42a9-81b2-ae6e85253a47 .showable{visibility:hidden}#chart-dc695df5-00c1-42a9-81b2-ae6e85253a47 .showable.shown{visibility:visible}#chart-dc695df5-00c1-42a9-81b2-ae6e85253a47 .gauge-background{fill:rgba(229,229,229,1);stroke:none}#chart-dc695df5-00c1-42a9-81b2-ae6e85253a47 .bg-lines{stroke:rgba(249,249,249,1);stroke-width:2px}</style><script type=\"text/javascript\">window.pygal = window.pygal || {};window.pygal.config = window.pygal.config || {};window.pygal.config['dc695df5-00c1-42a9-81b2-ae6e85253a47'] = {&quot;allow_interruptions&quot;: false, &quot;box_mode&quot;: &quot;extremes&quot;, &quot;classes&quot;: [&quot;pygal-chart&quot;], &quot;css&quot;: [&quot;file://style.css&quot;, &quot;file://graph.css&quot;], &quot;defs&quot;: [], &quot;disable_xml_declaration&quot;: true, &quot;dots_size&quot;: 2.5, &quot;dynamic_print_values&quot;: false, &quot;explicit_size&quot;: false, &quot;fill&quot;: false, &quot;force_uri_protocol&quot;: &quot;https&quot;, &quot;formatter&quot;: null, &quot;half_pie&quot;: false, &quot;height&quot;: 600, &quot;include_x_axis&quot;: false, &quot;inner_radius&quot;: 0, &quot;interpolate&quot;: null, &quot;interpolation_parameters&quot;: {}, &quot;interpolation_precision&quot;: 250, &quot;inverse_y_axis&quot;: false, &quot;js&quot;: [&quot;//kozea.github.io/pygal.js/2.0.x/pygal-tooltips.min.js&quot;], &quot;legend_at_bottom&quot;: false, &quot;legend_at_bottom_columns&quot;: null, &quot;legend_box_size&quot;: 12, &quot;logarithmic&quot;: false, &quot;margin&quot;: 20, &quot;margin_bottom&quot;: null, &quot;margin_left&quot;: null, &quot;margin_right&quot;: null, &quot;margin_top&quot;: null, &quot;max_scale&quot;: 16, &quot;min_scale&quot;: 4, &quot;missing_value_fill_truncation&quot;: &quot;x&quot;, &quot;no_data_text&quot;: &quot;No data&quot;, &quot;no_prefix&quot;: false, &quot;order_min&quot;: null, &quot;pretty_print&quot;: false, &quot;print_labels&quot;: false, &quot;print_values&quot;: false, &quot;print_values_position&quot;: &quot;center&quot;, &quot;print_zeroes&quot;: true, &quot;range&quot;: null, &quot;rounded_bars&quot;: null, &quot;secondary_range&quot;: null, &quot;show_dots&quot;: true, &quot;show_legend&quot;: true, &quot;show_minor_x_labels&quot;: true, &quot;show_minor_y_labels&quot;: true, &quot;show_only_major_dots&quot;: false, &quot;show_x_guides&quot;: false, &quot;show_x_labels&quot;: true, &quot;show_y_guides&quot;: true, &quot;show_y_labels&quot;: true, &quot;spacing&quot;: 10, &quot;stack_from_top&quot;: false, &quot;strict&quot;: false, &quot;stroke&quot;: true, &quot;stroke_style&quot;: null, &quot;style&quot;: {&quot;background&quot;: &quot;rgba(249, 249, 249, 1)&quot;, &quot;ci_colors&quot;: [], &quot;colors&quot;: [&quot;#F44336&quot;, &quot;#3F51B5&quot;, &quot;#009688&quot;, &quot;#FFC107&quot;, &quot;#FF5722&quot;, &quot;#9C27B0&quot;, &quot;#03A9F4&quot;, &quot;#8BC34A&quot;, &quot;#FF9800&quot;, &quot;#E91E63&quot;, &quot;#2196F3&quot;, &quot;#4CAF50&quot;, &quot;#FFEB3B&quot;, &quot;#673AB7&quot;, &quot;#00BCD4&quot;, &quot;#CDDC39&quot;, &quot;#9E9E9E&quot;, &quot;#607D8B&quot;], &quot;font_family&quot;: &quot;Consolas, \\&quot;Liberation Mono\\&quot;, Menlo, Courier, monospace&quot;, &quot;foreground&quot;: &quot;rgba(0, 0, 0, .87)&quot;, &quot;foreground_strong&quot;: &quot;rgba(0, 0, 0, 1)&quot;, &quot;foreground_subtle&quot;: &quot;rgba(0, 0, 0, .54)&quot;, &quot;guide_stroke_dasharray&quot;: &quot;4,4&quot;, &quot;label_font_family&quot;: &quot;Consolas, \\&quot;Liberation Mono\\&quot;, Menlo, Courier, monospace&quot;, &quot;label_font_size&quot;: 10, &quot;legend_font_family&quot;: &quot;Consolas, \\&quot;Liberation Mono\\&quot;, Menlo, Courier, monospace&quot;, &quot;legend_font_size&quot;: 14, &quot;major_guide_stroke_dasharray&quot;: &quot;6,6&quot;, &quot;major_label_font_family&quot;: &quot;Consolas, \\&quot;Liberation Mono\\&quot;, Menlo, Courier, monospace&quot;, &quot;major_label_font_size&quot;: 10, &quot;no_data_font_family&quot;: &quot;Consolas, \\&quot;Liberation Mono\\&quot;, Menlo, Courier, monospace&quot;, &quot;no_data_font_size&quot;: 64, &quot;opacity&quot;: &quot;.7&quot;, &quot;opacity_hover&quot;: &quot;.8&quot;, &quot;plot_background&quot;: &quot;rgba(255, 255, 255, 1)&quot;, &quot;stroke_opacity&quot;: &quot;.8&quot;, &quot;stroke_opacity_hover&quot;: &quot;.9&quot;, &quot;title_font_family&quot;: &quot;Consolas, \\&quot;Liberation Mono\\&quot;, Menlo, Courier, monospace&quot;, &quot;title_font_size&quot;: 16, &quot;tooltip_font_family&quot;: &quot;Consolas, \\&quot;Liberation Mono\\&quot;, Menlo, Courier, monospace&quot;, &quot;tooltip_font_size&quot;: 14, &quot;transition&quot;: &quot;150ms&quot;, &quot;value_background&quot;: &quot;rgba(229, 229, 229, 1)&quot;, &quot;value_colors&quot;: [], &quot;value_font_family&quot;: &quot;Consolas, \\&quot;Liberation Mono\\&quot;, Menlo, Courier, monospace&quot;, &quot;value_font_size&quot;: 16, &quot;value_label_font_family&quot;: &quot;Consolas, \\&quot;Liberation Mono\\&quot;, Menlo, Courier, monospace&quot;, &quot;value_label_font_size&quot;: 10}, &quot;title&quot;: &quot;log mse error plot&quot;, &quot;tooltip_border_radius&quot;: 0, &quot;tooltip_fancy_mode&quot;: true, &quot;truncate_label&quot;: null, &quot;truncate_legend&quot;: null, &quot;width&quot;: 800, &quot;x_label_rotation&quot;: 0, &quot;x_labels&quot;: null, &quot;x_labels_major&quot;: null, &quot;x_labels_major_count&quot;: null, &quot;x_labels_major_every&quot;: null, &quot;x_title&quot;: null, &quot;xrange&quot;: null, &quot;y_label_rotation&quot;: 0, &quot;y_labels&quot;: null, &quot;y_labels_major&quot;: null, &quot;y_labels_major_count&quot;: null, &quot;y_labels_major_every&quot;: null, &quot;y_title&quot;: null, &quot;zero&quot;: 0, &quot;legends&quot;: [&quot;Log of Train error via iteration&quot;, &quot;Log of Test error via iteration&quot;]}</script><script type=\"text/javascript\" xlink:href=\"https://kozea.github.io/pygal.js/2.0.x/pygal-tooltips.min.js\"/></defs><title>log mse error plot</title><g class=\"graph line-graph vertical\"><rect class=\"background\" height=\"600\" width=\"800\" x=\"0\" y=\"0\"/><g class=\"plot\" transform=\"translate(190, 46)\"><rect class=\"background\" height=\"534\" width=\"590.0\" x=\"0\" y=\"0\"/><g class=\"axis y always_show\"><g class=\"guides\"><path class=\"axis major line\" d=\"M0.000000 501.194376 h590.000000\"/><text class=\"major\" x=\"-5\" y=\"504.69437553383773\">0</text><title>0</title></g><g class=\"guides\"><path class=\"guide line\" d=\"M0.000000 387.252804 h590.000000\"/><text class=\"\" x=\"-5\" y=\"390.75280366836597\">10</text><title>10</title></g><g class=\"guides\"><path class=\"guide line\" d=\"M0.000000 273.311232 h590.000000\"/><text class=\"\" x=\"-5\" y=\"276.8112318028942\">20</text><title>20</title></g><g class=\"guides\"><path class=\"guide line\" d=\"M0.000000 159.369660 h590.000000\"/><text class=\"\" x=\"-5\" y=\"162.8696599374225\">30</text><title>30</title></g><g class=\"guides\"><path class=\"guide line\" d=\"M0.000000 45.428088 h590.000000\"/><text class=\"\" x=\"-5\" y=\"48.928088071950754\">40</text><title>40</title></g></g><g class=\"series serie-0 color-0\"><path class=\"line reactive nofill\" d=\"M11.346154 10.269231 L24.239510 54.947541 37.132867 187.264750 50.026224 325.742924 62.919580 336.559505 75.812937 370.268554 88.706294 391.116936 101.599650 446.371324 114.493007 454.487246 127.386364 456.545495 140.279720 458.360939 153.173077 467.898510 166.066434 468.107838 178.959790 468.689887 191.853147 476.536788 204.746503 476.954897 217.639860 477.211836 230.533217 478.260407 243.426573 479.352887 256.319930 481.433280 269.213287 481.607181 282.106643 490.763385 295.000000 499.935443 307.893357 500.059169 320.786713 501.337650 333.680070 505.480738 346.573427 506.292591 359.466783 506.893927 372.360140 507.620734 385.253497 516.703677 398.146853 516.912384 411.040210 517.647470 423.933566 519.305316 436.826923 520.095877 449.720280 520.413955 462.613636 520.740493 475.506993 520.853647 488.400350 522.017596 501.293706 522.826628 514.187063 523.014620 527.080420 523.259200 539.973776 523.291633 552.867133 523.358211 565.760490 523.630295 578.653846 523.730769\"/></g><g class=\"series serie-1 color-1\"><path class=\"line reactive nofill\" d=\"M11.346154 30.211780 L24.239510 64.977201 37.132867 201.563518 50.026224 329.285560 62.919580 338.846320 75.812937 374.690208 88.706294 390.244100 101.599650 448.532661 114.493007 456.188178 127.386364 460.223486 140.279720 458.795876 153.173077 467.572351 166.066434 469.839982 178.959790 468.855003 191.853147 466.923116 204.746503 468.924282 217.639860 475.258050 230.533217 483.131082 243.426573 475.545152 256.319930 477.104529 269.213287 483.683038 282.106643 490.967833 295.000000 503.036449 307.893357 499.318418 320.786713 498.873505 333.680070 505.359991 346.573427 506.818179 359.466783 506.118951 372.360140 507.901334 385.253497 515.531798 398.146853 514.682061 411.040210 516.148559 423.933566 517.132753 436.826923 519.477546 449.720280 519.107525 462.613636 518.582113 475.506993 520.745289 488.400350 520.712999 501.293706 520.862516 514.187063 521.886444 527.080420 521.232991 539.973776 521.133198 552.867133 521.490222 565.760490 522.662948 578.653846 522.505538\"/></g></g><g class=\"titles\"><text class=\"title plot_title\" x=\"400.0\" y=\"26\">log mse error plot</text></g><g class=\"plot overlay\" transform=\"translate(190, 46)\"><g class=\"series serie-0 color-0\"><g class=\"dots\"><circle class=\"dot reactive tooltip-trigger\" cx=\"11.346153846153847\" cy=\"10.269230769230717\" r=\"2.5\"/><desc class=\"value\">43.08569179</desc><desc class=\"x \">11.346153846153847</desc><desc class=\"y \">10.269230769230717</desc></g><g class=\"dots\"><circle class=\"dot reactive tooltip-trigger\" cx=\"24.239510489510486\" cy=\"54.94754122584186\" r=\"2.5\"/><desc class=\"value\">39.16453205</desc><desc class=\"x \">24.239510489510486</desc><desc class=\"y \">54.94754122584186</desc></g><g class=\"dots\"><circle class=\"dot reactive tooltip-trigger\" cx=\"37.13286713286714\" cy=\"187.26475000570628\" r=\"2.5\"/><desc class=\"value\">27.55180751</desc><desc class=\"x \">37.13286713286714</desc><desc class=\"y \">187.26475000570628</desc></g><g class=\"dots\"><circle class=\"dot reactive tooltip-trigger\" cx=\"50.02622377622377\" cy=\"325.74292394350357\" r=\"2.5\"/><desc class=\"value\">15.3983703</desc><desc class=\"x top\">50.02622377622377</desc><desc class=\"y top\">325.74292394350357</desc></g><g class=\"dots\"><circle class=\"dot reactive tooltip-trigger\" cx=\"62.91958041958042\" cy=\"336.5595045446154\" r=\"2.5\"/><desc class=\"value\">14.44906089</desc><desc class=\"x top\">62.91958041958042</desc><desc class=\"y top\">336.5595045446154</desc></g><g class=\"dots\"><circle class=\"dot reactive tooltip-trigger\" cx=\"75.81293706293705\" cy=\"370.2685543202995\" r=\"2.5\"/><desc class=\"value\">11.49061041</desc><desc class=\"x top\">75.81293706293705</desc><desc class=\"y top\">370.2685543202995</desc></g><g class=\"dots\"><circle class=\"dot reactive tooltip-trigger\" cx=\"88.70629370629369\" cy=\"391.11693612642705\" r=\"2.5\"/><desc class=\"value\">9.660867198</desc><desc class=\"x top\">88.70629370629369</desc><desc class=\"y top\">391.11693612642705</desc></g><g class=\"dots\"><circle class=\"dot reactive tooltip-trigger\" cx=\"101.59965034965035\" cy=\"446.3713237532535\" r=\"2.5\"/><desc class=\"value\">4.811505659</desc><desc class=\"x top\">101.59965034965035</desc><desc class=\"y top\">446.3713237532535</desc></g><g class=\"dots\"><circle class=\"dot reactive tooltip-trigger\" cx=\"114.49300699300699\" cy=\"454.4872460828608\" r=\"2.5\"/><desc class=\"value\">4.09921758</desc><desc class=\"x top\">114.49300699300699</desc><desc class=\"y top\">454.4872460828608</desc></g><g class=\"dots\"><circle class=\"dot reactive tooltip-trigger\" cx=\"127.38636363636363\" cy=\"456.5454947765415\" r=\"2.5\"/><desc class=\"value\">3.918576866</desc><desc class=\"x top\">127.38636363636363</desc><desc class=\"y top\">456.5454947765415</desc></g><g class=\"dots\"><circle class=\"dot reactive tooltip-trigger\" cx=\"140.27972027972027\" cy=\"458.36093894760415\" r=\"2.5\"/><desc class=\"value\">3.759245716</desc><desc class=\"x top\">140.27972027972027</desc><desc class=\"y top\">458.36093894760415</desc></g><g class=\"dots\"><circle class=\"dot reactive tooltip-trigger\" cx=\"153.17307692307693\" cy=\"467.89850973222053\" r=\"2.5\"/><desc class=\"value\">2.922187684</desc><desc class=\"x top\">153.17307692307693</desc><desc class=\"y top\">467.89850973222053</desc></g><g class=\"dots\"><circle class=\"dot reactive tooltip-trigger\" cx=\"166.06643356643357\" cy=\"468.1078375174971\" r=\"2.5\"/><desc class=\"value\">2.903816182</desc><desc class=\"x top\">166.06643356643357</desc><desc class=\"y top\">468.1078375174971</desc></g><g class=\"dots\"><circle class=\"dot reactive tooltip-trigger\" cx=\"178.9597902097902\" cy=\"468.68988713396953\" r=\"2.5\"/><desc class=\"value\">2.852733016</desc><desc class=\"x top\">178.9597902097902</desc><desc class=\"y top\">468.68988713396953</desc></g><g class=\"dots\"><circle class=\"dot reactive tooltip-trigger\" cx=\"191.85314685314685\" cy=\"476.5367880659179\" r=\"2.5\"/><desc class=\"value\">2.164055407</desc><desc class=\"x top\">191.85314685314685</desc><desc class=\"y top\">476.5367880659179</desc></g><g class=\"dots\"><circle class=\"dot reactive tooltip-trigger\" cx=\"204.7465034965035\" cy=\"476.9548974337418\" r=\"2.5\"/><desc class=\"value\">2.127360339</desc><desc class=\"x top\">204.7465034965035</desc><desc class=\"y top\">476.9548974337418</desc></g><g class=\"dots\"><circle class=\"dot reactive tooltip-trigger\" cx=\"217.63986013986016\" cy=\"477.21183615417453\" r=\"2.5\"/><desc class=\"value\">2.104810298</desc><desc class=\"x top\">217.63986013986016</desc><desc class=\"y top\">477.21183615417453</desc></g><g class=\"dots\"><circle class=\"dot reactive tooltip-trigger\" cx=\"230.53321678321677\" cy=\"478.26040736550624\" r=\"2.5\"/><desc class=\"value\">2.0127832</desc><desc class=\"x top\">230.53321678321677</desc><desc class=\"y top\">478.26040736550624</desc></g><g class=\"dots\"><circle class=\"dot reactive tooltip-trigger\" cx=\"243.42657342657344\" cy=\"479.3528865585392\" r=\"2.5\"/><desc class=\"value\">1.916902551</desc><desc class=\"x top\">243.42657342657344</desc><desc class=\"y top\">479.3528865585392</desc></g><g class=\"dots\"><circle class=\"dot reactive tooltip-trigger\" cx=\"256.31993006993\" cy=\"481.4332795845853\" r=\"2.5\"/><desc class=\"value\">1.734318355</desc><desc class=\"x top\">256.31993006993</desc><desc class=\"y top\">481.4332795845853</desc></g><g class=\"dots\"><circle class=\"dot reactive tooltip-trigger\" cx=\"269.2132867132867\" cy=\"481.60718088033514\" r=\"2.5\"/><desc class=\"value\">1.719056033</desc><desc class=\"x top\">269.2132867132867</desc><desc class=\"y top\">481.60718088033514</desc></g><g class=\"dots\"><circle class=\"dot reactive tooltip-trigger\" cx=\"282.10664335664336\" cy=\"490.7633845158695\" r=\"2.5\"/><desc class=\"value\">0.9154684148</desc><desc class=\"x top\">282.10664335664336</desc><desc class=\"y top\">490.7633845158695</desc></g><g class=\"dots\"><circle class=\"dot reactive tooltip-trigger\" cx=\"295.0\" cy=\"499.93544279413425\" r=\"2.5\"/><desc class=\"value\">0.1104893253</desc><desc class=\"x top\">295.0</desc><desc class=\"y top\">499.93544279413425</desc></g><g class=\"dots\"><circle class=\"dot reactive tooltip-trigger\" cx=\"307.89335664335664\" cy=\"500.0591693879968\" r=\"2.5\"/><desc class=\"value\">0.09963054987</desc><desc class=\"x left top\">307.89335664335664</desc><desc class=\"y left top\">500.0591693879968</desc></g><g class=\"dots\"><circle class=\"dot reactive tooltip-trigger\" cx=\"320.7867132867133\" cy=\"501.33764984263763\" r=\"2.5\"/><desc class=\"value\">-0.01257436653</desc><desc class=\"x left top\">320.7867132867133</desc><desc class=\"y left top\">501.33764984263763</desc></g><g class=\"dots\"><circle class=\"dot reactive tooltip-trigger\" cx=\"333.68006993007\" cy=\"505.4807375993897\" r=\"2.5\"/><desc class=\"value\">-0.3761894799</desc><desc class=\"x left top\">333.68006993007</desc><desc class=\"y left top\">505.4807375993897</desc></g><g class=\"dots\"><circle class=\"dot reactive tooltip-trigger\" cx=\"346.57342657342656\" cy=\"506.29259098964275\" r=\"2.5\"/><desc class=\"value\">-0.447441208</desc><desc class=\"x left top\">346.57342657342656</desc><desc class=\"y left top\">506.29259098964275</desc></g><g class=\"dots\"><circle class=\"dot reactive tooltip-trigger\" cx=\"359.46678321678326\" cy=\"506.89392705932124\" r=\"2.5\"/><desc class=\"value\">-0.5002170351</desc><desc class=\"x left top\">359.46678321678326</desc><desc class=\"y left top\">506.89392705932124</desc></g><g class=\"dots\"><circle class=\"dot reactive tooltip-trigger\" cx=\"372.36013986013984\" cy=\"507.62073392301187\" r=\"2.5\"/><desc class=\"value\">-0.5640047161</desc><desc class=\"x left top\">372.36013986013984</desc><desc class=\"y left top\">507.62073392301187</desc></g><g class=\"dots\"><circle class=\"dot reactive tooltip-trigger\" cx=\"385.2534965034965\" cy=\"516.7036766662679\" r=\"2.5\"/><desc class=\"value\">-1.361162645</desc><desc class=\"x left top\">385.2534965034965</desc><desc class=\"y left top\">516.7036766662679</desc></g><g class=\"dots\"><circle class=\"dot reactive tooltip-trigger\" cx=\"398.1468531468531\" cy=\"516.9123840497034\" r=\"2.5\"/><desc class=\"value\">-1.379479698</desc><desc class=\"x left top\">398.1468531468531</desc><desc class=\"y left top\">516.9123840497034</desc></g><g class=\"dots\"><circle class=\"dot reactive tooltip-trigger\" cx=\"411.0402097902098\" cy=\"517.6474704200631\" r=\"2.5\"/><desc class=\"value\">-1.443994024</desc><desc class=\"x left top\">411.0402097902098</desc><desc class=\"y left top\">517.6474704200631</desc></g><g class=\"dots\"><circle class=\"dot reactive tooltip-trigger\" cx=\"423.93356643356645\" cy=\"519.3053160679135\" r=\"2.5\"/><desc class=\"value\">-1.589493653</desc><desc class=\"x left top\">423.93356643356645</desc><desc class=\"y left top\">519.3053160679135</desc></g><g class=\"dots\"><circle class=\"dot reactive tooltip-trigger\" cx=\"436.8269230769231\" cy=\"520.0958772945385\" r=\"2.5\"/><desc class=\"value\">-1.65887669</desc><desc class=\"x left top\">436.8269230769231</desc><desc class=\"y left top\">520.0958772945385</desc></g><g class=\"dots\"><circle class=\"dot reactive tooltip-trigger\" cx=\"449.7202797202797\" cy=\"520.4139549997615\" r=\"2.5\"/><desc class=\"value\">-1.686792551</desc><desc class=\"x left top\">449.7202797202797</desc><desc class=\"y left top\">520.4139549997615</desc></g><g class=\"dots\"><circle class=\"dot reactive tooltip-trigger\" cx=\"462.6136363636364\" cy=\"520.7404927025636\" r=\"2.5\"/><desc class=\"value\">-1.715450897</desc><desc class=\"x left top\">462.6136363636364</desc><desc class=\"y left top\">520.7404927025636</desc></g><g class=\"dots\"><circle class=\"dot reactive tooltip-trigger\" cx=\"475.506993006993\" cy=\"520.8536469670591\" r=\"2.5\"/><desc class=\"value\">-1.7253818</desc><desc class=\"x left top\">475.506993006993</desc><desc class=\"y left top\">520.8536469670591</desc></g><g class=\"dots\"><circle class=\"dot reactive tooltip-trigger\" cx=\"488.40034965034965\" cy=\"522.0175960319826\" r=\"2.5\"/><desc class=\"value\">-1.827534951</desc><desc class=\"x left top\">488.40034965034965</desc><desc class=\"y left top\">522.0175960319826</desc></g><g class=\"dots\"><circle class=\"dot reactive tooltip-trigger\" cx=\"501.2937062937063\" cy=\"522.826628192122\" r=\"2.5\"/><desc class=\"value\">-1.898539076</desc><desc class=\"x left top\">501.2937062937063</desc><desc class=\"y left top\">522.826628192122</desc></g><g class=\"dots\"><circle class=\"dot reactive tooltip-trigger\" cx=\"514.1870629370629\" cy=\"523.0146197966834\" r=\"2.5\"/><desc class=\"value\">-1.915038024</desc><desc class=\"x left top\">514.1870629370629</desc><desc class=\"y left top\">523.0146197966834</desc></g><g class=\"dots\"><circle class=\"dot reactive tooltip-trigger\" cx=\"527.0804195804195\" cy=\"523.2591998970137\" r=\"2.5\"/><desc class=\"value\">-1.93650342</desc><desc class=\"x left top\">527.0804195804195</desc><desc class=\"y left top\">523.2591998970137</desc></g><g class=\"dots\"><circle class=\"dot reactive tooltip-trigger\" cx=\"539.9737762237761\" cy=\"523.2916329219881\" r=\"2.5\"/><desc class=\"value\">-1.939349881</desc><desc class=\"x left top\">539.9737762237761</desc><desc class=\"y left top\">523.2916329219881</desc></g><g class=\"dots\"><circle class=\"dot reactive tooltip-trigger\" cx=\"552.8671328671329\" cy=\"523.3582110227192\" r=\"2.5\"/><desc class=\"value\">-1.94519306</desc><desc class=\"x left top\">552.8671328671329</desc><desc class=\"y left top\">523.3582110227192</desc></g><g class=\"dots\"><circle class=\"dot reactive tooltip-trigger\" cx=\"565.7604895104895\" cy=\"523.6302950493526\" r=\"2.5\"/><desc class=\"value\">-1.969072319</desc><desc class=\"x left top\">565.7604895104895</desc><desc class=\"y left top\">523.6302950493526</desc></g><g class=\"dots\"><circle class=\"dot reactive tooltip-trigger\" cx=\"578.6538461538461\" cy=\"523.7307692307693\" r=\"2.5\"/><desc class=\"value\">-1.977890363</desc><desc class=\"x left top\">578.6538461538461</desc><desc class=\"y left top\">523.7307692307693</desc></g></g><g class=\"series serie-1 color-1\"><g class=\"dots\"><circle class=\"dot reactive tooltip-trigger\" cx=\"11.346153846153847\" cy=\"30.211779635812206\" r=\"2.5\"/><desc class=\"value\">41.33544835</desc><desc class=\"x \">11.346153846153847</desc><desc class=\"y \">30.211779635812206</desc></g><g class=\"dots\"><circle class=\"dot reactive tooltip-trigger\" cx=\"24.239510489510486\" cy=\"64.97720058118114\" r=\"2.5\"/><desc class=\"value\">38.28428622</desc><desc class=\"x \">24.239510489510486</desc><desc class=\"y \">64.97720058118114</desc></g><g class=\"dots\"><circle class=\"dot reactive tooltip-trigger\" cx=\"37.13286713286714\" cy=\"201.5635180532965\" r=\"2.5\"/><desc class=\"value\">26.29688643</desc><desc class=\"x \">37.13286713286714</desc><desc class=\"y \">201.5635180532965</desc></g><g class=\"dots\"><circle class=\"dot reactive tooltip-trigger\" cx=\"50.02622377622377\" cy=\"329.28556026689165\" r=\"2.5\"/><desc class=\"value\">15.08745337</desc><desc class=\"x top\">50.02622377622377</desc><desc class=\"y top\">329.28556026689165</desc></g><g class=\"dots\"><circle class=\"dot reactive tooltip-trigger\" cx=\"62.91958041958042\" cy=\"338.8463196658324\" r=\"2.5\"/><desc class=\"value\">14.24836021</desc><desc class=\"x top\">62.91958041958042</desc><desc class=\"y top\">338.8463196658324</desc></g><g class=\"dots\"><circle class=\"dot reactive tooltip-trigger\" cx=\"75.81293706293705\" cy=\"374.6902081941599\" r=\"2.5\"/><desc class=\"value\">11.10254714</desc><desc class=\"x top\">75.81293706293705</desc><desc class=\"y top\">374.6902081941599</desc></g><g class=\"dots\"><circle class=\"dot reactive tooltip-trigger\" cx=\"88.70629370629369\" cy=\"390.24410019210944\" r=\"2.5\"/><desc class=\"value\">9.737471015</desc><desc class=\"x top\">88.70629370629369</desc><desc class=\"y top\">390.24410019210944</desc></g><g class=\"dots\"><circle class=\"dot reactive tooltip-trigger\" cx=\"101.59965034965035\" cy=\"448.5326607535314\" r=\"2.5\"/><desc class=\"value\">4.621817473</desc><desc class=\"x top\">101.59965034965035</desc><desc class=\"y top\">448.5326607535314</desc></g><g class=\"dots\"><circle class=\"dot reactive tooltip-trigger\" cx=\"114.49300699300699\" cy=\"456.18817830535744\" r=\"2.5\"/><desc class=\"value\">3.949936489</desc><desc class=\"x top\">114.49300699300699</desc><desc class=\"y top\">456.18817830535744</desc></g><g class=\"dots\"><circle class=\"dot reactive tooltip-trigger\" cx=\"127.38636363636363\" cy=\"460.22348578895054\" r=\"2.5\"/><desc class=\"value\">3.595780633</desc><desc class=\"x top\">127.38636363636363</desc><desc class=\"y top\">460.22348578895054</desc></g><g class=\"dots\"><circle class=\"dot reactive tooltip-trigger\" cx=\"140.27972027972027\" cy=\"458.795875998975\" r=\"2.5\"/><desc class=\"value\">3.721073778</desc><desc class=\"x top\">140.27972027972027</desc><desc class=\"y top\">458.795875998975</desc></g><g class=\"dots\"><circle class=\"dot reactive tooltip-trigger\" cx=\"153.17307692307693\" cy=\"467.57235081028597\" r=\"2.5\"/><desc class=\"value\">2.950812787</desc><desc class=\"x top\">153.17307692307693</desc><desc class=\"y top\">467.57235081028597</desc></g><g class=\"dots\"><circle class=\"dot reactive tooltip-trigger\" cx=\"166.06643356643357\" cy=\"469.8399821765215\" r=\"2.5\"/><desc class=\"value\">2.751795753</desc><desc class=\"x top\">166.06643356643357</desc><desc class=\"y top\">469.8399821765215</desc></g><g class=\"dots\"><circle class=\"dot reactive tooltip-trigger\" cx=\"178.9597902097902\" cy=\"468.8550033373061\" r=\"2.5\"/><desc class=\"value\">2.838241712</desc><desc class=\"x top\">178.9597902097902</desc><desc class=\"y top\">468.8550033373061</desc></g><g class=\"dots\"><circle class=\"dot reactive tooltip-trigger\" cx=\"191.85314685314685\" cy=\"466.9231163683999\" r=\"2.5\"/><desc class=\"value\">3.00779238</desc><desc class=\"x top\">191.85314685314685</desc><desc class=\"y top\">466.9231163683999</desc></g><g class=\"dots\"><circle class=\"dot reactive tooltip-trigger\" cx=\"204.7465034965035\" cy=\"468.9242821475715\" r=\"2.5\"/><desc class=\"value\">2.832161507</desc><desc class=\"x top\">204.7465034965035</desc><desc class=\"y top\">468.9242821475715</desc></g><g class=\"dots\"><circle class=\"dot reactive tooltip-trigger\" cx=\"217.63986013986016\" cy=\"475.25804995773177\" r=\"2.5\"/><desc class=\"value\">2.276282936</desc><desc class=\"x top\">217.63986013986016</desc><desc class=\"y top\">475.25804995773177</desc></g><g class=\"dots\"><circle class=\"dot reactive tooltip-trigger\" cx=\"230.53321678321677\" cy=\"483.1310817992161\" r=\"2.5\"/><desc class=\"value\">1.585311966</desc><desc class=\"x top\">230.53321678321677</desc><desc class=\"y top\">483.1310817992161</desc></g><g class=\"dots\"><circle class=\"dot reactive tooltip-trigger\" cx=\"243.42657342657344\" cy=\"475.54515240406135\" r=\"2.5\"/><desc class=\"value\">2.251085597</desc><desc class=\"x top\">243.42657342657344</desc><desc class=\"y top\">475.54515240406135</desc></g><g class=\"dots\"><circle class=\"dot reactive tooltip-trigger\" cx=\"256.31993006993\" cy=\"477.10452905150834\" r=\"2.5\"/><desc class=\"value\">2.114228028</desc><desc class=\"x top\">256.31993006993</desc><desc class=\"y top\">477.10452905150834</desc></g><g class=\"dots\"><circle class=\"dot reactive tooltip-trigger\" cx=\"269.2132867132867\" cy=\"483.68303767816286\" r=\"2.5\"/><desc class=\"value\">1.536869956</desc><desc class=\"x top\">269.2132867132867</desc><desc class=\"y top\">483.68303767816286</desc></g><g class=\"dots\"><circle class=\"dot reactive tooltip-trigger\" cx=\"282.10664335664336\" cy=\"490.9678325014354\" r=\"2.5\"/><desc class=\"value\">0.8975251846</desc><desc class=\"x top\">282.10664335664336</desc><desc class=\"y top\">490.9678325014354</desc></g><g class=\"dots\"><circle class=\"dot reactive tooltip-trigger\" cx=\"295.0\" cy=\"503.03644899653307\" r=\"2.5\"/><desc class=\"value\">-0.1616682509</desc><desc class=\"x top\">295.0</desc><desc class=\"y top\">503.03644899653307</desc></g><g class=\"dots\"><circle class=\"dot reactive tooltip-trigger\" cx=\"307.89335664335664\" cy=\"499.31841844979715\" r=\"2.5\"/><desc class=\"value\">0.1646420225</desc><desc class=\"x left top\">307.89335664335664</desc><desc class=\"y left top\">499.31841844979715</desc></g><g class=\"dots\"><circle class=\"dot reactive tooltip-trigger\" cx=\"320.7867132867133\" cy=\"498.87350468275304\" r=\"2.5\"/><desc class=\"value\">0.2036895589</desc><desc class=\"x left top\">320.7867132867133</desc><desc class=\"y left top\">498.87350468275304</desc></g><g class=\"dots\"><circle class=\"dot reactive tooltip-trigger\" cx=\"333.68006993007\" cy=\"505.3599913526573\" r=\"2.5\"/><desc class=\"value\">-0.3655922725</desc><desc class=\"x left top\">333.68006993007</desc><desc class=\"y left top\">505.3599913526573</desc></g><g class=\"dots\"><circle class=\"dot reactive tooltip-trigger\" cx=\"346.57342657342656\" cy=\"506.81817930610856\" r=\"2.5\"/><desc class=\"value\">-0.4935690881</desc><desc class=\"x left top\">346.57342657342656</desc><desc class=\"y left top\">506.81817930610856</desc></g><g class=\"dots\"><circle class=\"dot reactive tooltip-trigger\" cx=\"359.46678321678326\" cy=\"506.11895126837834\" r=\"2.5\"/><desc class=\"value\">-0.4322018429</desc><desc class=\"x left top\">359.46678321678326</desc><desc class=\"y left top\">506.11895126837834</desc></g><g class=\"dots\"><circle class=\"dot reactive tooltip-trigger\" cx=\"372.36013986013984\" cy=\"507.90133447248917\" r=\"2.5\"/><desc class=\"value\">-0.5886314212</desc><desc class=\"x left top\">372.36013986013984</desc><desc class=\"y left top\">507.90133447248917</desc></g><g class=\"dots\"><circle class=\"dot reactive tooltip-trigger\" cx=\"385.2534965034965\" cy=\"515.5317982385777\" r=\"2.5\"/><desc class=\"value\">-1.258313579</desc><desc class=\"x left top\">385.2534965034965</desc><desc class=\"y left top\">515.5317982385777</desc></g><g class=\"dots\"><circle class=\"dot reactive tooltip-trigger\" cx=\"398.1468531468531\" cy=\"514.6820612756275\" r=\"2.5\"/><desc class=\"value\">-1.183737026</desc><desc class=\"x left top\">398.1468531468531</desc><desc class=\"y left top\">514.6820612756275</desc></g><g class=\"dots\"><circle class=\"dot reactive tooltip-trigger\" cx=\"411.0402097902098\" cy=\"516.1485593156307\" r=\"2.5\"/><desc class=\"value\">-1.31244317</desc><desc class=\"x left top\">411.0402097902098</desc><desc class=\"y left top\">516.1485593156307</desc></g><g class=\"dots\"><circle class=\"dot reactive tooltip-trigger\" cx=\"423.93356643356645\" cy=\"517.1327530433132\" r=\"2.5\"/><desc class=\"value\">-1.398820224</desc><desc class=\"x left top\">423.93356643356645</desc><desc class=\"y left top\">517.1327530433132</desc></g><g class=\"dots\"><circle class=\"dot reactive tooltip-trigger\" cx=\"436.8269230769231\" cy=\"519.4775456285719\" r=\"2.5\"/><desc class=\"value\">-1.604609257</desc><desc class=\"x left top\">436.8269230769231</desc><desc class=\"y left top\">519.4775456285719</desc></g><g class=\"dots\"><circle class=\"dot reactive tooltip-trigger\" cx=\"449.7202797202797\" cy=\"519.1075254927933\" r=\"2.5\"/><desc class=\"value\">-1.572134706</desc><desc class=\"x left top\">449.7202797202797</desc><desc class=\"y left top\">519.1075254927933</desc></g><g class=\"dots\"><circle class=\"dot reactive tooltip-trigger\" cx=\"462.6136363636364\" cy=\"518.5821132529676\" r=\"2.5\"/><desc class=\"value\">-1.526022279</desc><desc class=\"x left top\">462.6136363636364</desc><desc class=\"y left top\">518.5821132529676</desc></g><g class=\"dots\"><circle class=\"dot reactive tooltip-trigger\" cx=\"475.506993006993\" cy=\"520.7452890393374\" r=\"2.5\"/><desc class=\"value\">-1.715871844</desc><desc class=\"x left top\">475.506993006993</desc><desc class=\"y left top\">520.7452890393374</desc></g><g class=\"dots\"><circle class=\"dot reactive tooltip-trigger\" cx=\"488.40034965034965\" cy=\"520.7129985686337\" r=\"2.5\"/><desc class=\"value\">-1.713037894</desc><desc class=\"x left top\">488.40034965034965</desc><desc class=\"y left top\">520.7129985686337</desc></g><g class=\"dots\"><circle class=\"dot reactive tooltip-trigger\" cx=\"501.2937062937063\" cy=\"520.8625164208632\" r=\"2.5\"/><desc class=\"value\">-1.726160221</desc><desc class=\"x left top\">501.2937062937063</desc><desc class=\"y left top\">520.8625164208632</desc></g><g class=\"dots\"><circle class=\"dot reactive tooltip-trigger\" cx=\"514.1870629370629\" cy=\"521.8864439255573\" r=\"2.5\"/><desc class=\"value\">-1.816024481</desc><desc class=\"x left top\">514.1870629370629</desc><desc class=\"y left top\">521.8864439255573</desc></g><g class=\"dots\"><circle class=\"dot reactive tooltip-trigger\" cx=\"527.0804195804195\" cy=\"521.2329913325136\" r=\"2.5\"/><desc class=\"value\">-1.758674685</desc><desc class=\"x left top\">527.0804195804195</desc><desc class=\"y left top\">521.2329913325136</desc></g><g class=\"dots\"><circle class=\"dot reactive tooltip-trigger\" cx=\"539.9737762237761\" cy=\"521.1331983777434\" r=\"2.5\"/><desc class=\"value\">-1.749916428</desc><desc class=\"x left top\">539.9737762237761</desc><desc class=\"y left top\">521.1331983777434</desc></g><g class=\"dots\"><circle class=\"dot reactive tooltip-trigger\" cx=\"552.8671328671329\" cy=\"521.4902215313249\" r=\"2.5\"/><desc class=\"value\">-1.781250308</desc><desc class=\"x left top\">552.8671328671329</desc><desc class=\"y left top\">521.4902215313249</desc></g><g class=\"dots\"><circle class=\"dot reactive tooltip-trigger\" cx=\"565.7604895104895\" cy=\"522.6629475105864\" r=\"2.5\"/><desc class=\"value\">-1.884173759</desc><desc class=\"x left top\">565.7604895104895</desc><desc class=\"y left top\">522.6629475105864</desc></g><g class=\"dots\"><circle class=\"dot reactive tooltip-trigger\" cx=\"578.6538461538461\" cy=\"522.5055375282852\" r=\"2.5\"/><desc class=\"value\">-1.870358785</desc><desc class=\"x left top\">578.6538461538461</desc><desc class=\"y left top\">522.5055375282852</desc></g></g></g><g class=\"plot text-overlay\" transform=\"translate(190, 46)\"><g class=\"series serie-0 color-0\"/><g class=\"series serie-1 color-1\"/></g><g class=\"plot tooltip-overlay\" transform=\"translate(190, 46)\"><g class=\"tooltip\" style=\"opacity: 0\" transform=\"translate(0 0)\"><rect class=\"tooltip-box\" height=\"0\" rx=\"0\" ry=\"0\" width=\"0\"/><g class=\"text\"/></g></g><g class=\"legends\" transform=\"translate(10, 56)\"><g class=\"legend reactive activate-serie\" id=\"activate-serie-0\"><rect class=\"color-0 reactive\" height=\"12\" width=\"12\" x=\"0.0\" y=\"1.0\"/><text x=\"17.0\" y=\"11.2\">Log of Train e…</text><title>Log of Train error via iteration</title></g><g class=\"legend reactive activate-serie\" id=\"activate-serie-1\"><rect class=\"color-1 reactive\" height=\"12\" width=\"12\" x=\"0.0\" y=\"22.0\"/><text x=\"17.0\" y=\"32.2\">Log of Test er…</text><title>Log of Test error via iteration</title></g></g><g class=\"legends\" transform=\"translate(790, 56)\"/></g></svg>"
      ],
      "text/plain": [
       "<IPython.core.display.SVG object>"
      ]
     },
     "metadata": {},
     "output_type": "display_data"
    }
   ],
   "source": [
    "print_pso_log_error_hist(pso.err_best_g_hist,  [mse(pos_best_g, X_test, y_test) for pos_best_g in pso.pos_best_g_hist], \"log mse error plot\")"
   ]
  },
  {
   "cell_type": "markdown",
   "metadata": {},
   "source": [
    "### Для L1"
   ]
  },
  {
   "cell_type": "code",
   "execution_count": null,
   "metadata": {},
   "outputs": [],
   "source": [
    "pso_l1 = PSO(l1,initial,bounds,num_particles=1500,maxiter=100)\n",
    "print_pso_log_error_hist(pso_l1.err_best_g_hist,  [l1(pos_best_g, X_test, y_test) for pos_best_g in pso_l1.pos_best_g_hist], \"l1 mse error plot\")"
   ]
  },
  {
   "cell_type": "code",
   "execution_count": null,
   "metadata": {},
   "outputs": [],
   "source": []
  },
  {
   "cell_type": "code",
   "execution_count": null,
   "metadata": {},
   "outputs": [],
   "source": []
  },
  {
   "cell_type": "code",
   "execution_count": null,
   "metadata": {},
   "outputs": [],
   "source": []
  },
  {
   "cell_type": "code",
   "execution_count": null,
   "metadata": {},
   "outputs": [],
   "source": []
  }
 ],
 "metadata": {
  "kernelspec": {
   "display_name": "Python 3",
   "language": "python",
   "name": "python3"
  },
  "language_info": {
   "codemirror_mode": {
    "name": "ipython",
    "version": 3
   },
   "file_extension": ".py",
   "mimetype": "text/x-python",
   "name": "python",
   "nbconvert_exporter": "python",
   "pygments_lexer": "ipython3",
   "version": "3.7.4"
  }
 },
 "nbformat": 4,
 "nbformat_minor": 4
}
